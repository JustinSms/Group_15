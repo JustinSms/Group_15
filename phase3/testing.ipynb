{
 "cells": [
  {
   "cell_type": "code",
   "execution_count": 1,
   "metadata": {},
   "outputs": [],
   "source": [
    "import pandas as pd\n",
    "import geopandas as gpd"
   ]
  },
  {
   "cell_type": "code",
   "execution_count": 2,
   "metadata": {},
   "outputs": [],
   "source": [
    "airports_df = pd.read_csv('../main_directory/downloads/airports.csv')\n",
    "airlines_df = pd.read_csv('../main_directory/downloads/airlines.csv')\n",
    "airplanes_df = pd.read_csv('../main_directory/downloads/airplanes.csv')\n",
    "routes_df = pd.read_csv('../main_directory/downloads/routes.csv')\n"
   ]
  },
  {
   "cell_type": "code",
   "execution_count": 3,
   "metadata": {},
   "outputs": [],
   "source": [
    "def visualize_flights_method_3(self, dataframe):\n",
    "\n",
    "        pass   \n",
    "\n",
    "def method3(airport, internal=False):\n",
    "    \"\"\"Develop a third method that receives an airport as an input and an optional argument called internal \n",
    "        with a value of False by default. If internal is True, then this method should plot only the flights \n",
    "        leaving this airport with a destination in the same country. Otherwise, it plots all flights.\"\"\"\n",
    "    \n",
    "    routes_df = routes_df.copy()\n",
    "\n",
    "    routes_df = pd.merge(routes_df, airports_df, left_on='Source airport', right_on='IATA')\n",
    "    routes_df = routes_df.rename(columns={'Latitude': 'source_lat', 'Longitude': 'source_lon'})\n",
    "    routes_df = pd.merge(routes_df, airports_df, left_on='Destination airport', right_on='IATA')\n",
    "    routes_df = routes_df.rename(columns={'Latitude': 'dest_lat', 'Longitude': 'dest_lon'})\n",
    "\n",
    "    all_routes = routes_df[routes_df['Source airport'] == airport]\n",
    "    #print(all_routes)\n",
    "    # append long and lat to the dataframe the source airport and destination airport \n",
    "\n",
    "    print(all_routes)\n",
    "\n",
    "\n",
    "    if internal == False:\n",
    "        pass\n",
    "        #return all_routes\n",
    "\n",
    "    if internal == True:\n",
    "        \n",
    "        source_country = airports_df[airports_df[\"IATA\"] == airport][\"Country\"].values[0]\n",
    "\n",
    "        airports_source_country = airports_df[airports_df[\"Country\"] == source_country][\"IATA\"].values\n",
    "\n",
    "        destination_source_country = all_routes[all_routes[\"Destination airport\"].isin(airports_source_country)]\n",
    "\n",
    "        #return destination_source_country\n",
    "    "
   ]
  },
  {
   "cell_type": "code",
   "execution_count": 5,
   "metadata": {},
   "outputs": [],
   "source": [
    "import pandas as pd\n",
    "import matplotlib.pyplot as plt\n",
    "\n",
    "def method3(self, airport, internal=False):\n",
    "    \"\"\"Plot flight routes from a given airport. If internal is True, plot only domestic flights.\"\"\"\n",
    "    \n",
    "    # Copy the routes and airports data to avoid modifying the original dataframes\n",
    "    routes_df = self.routes_df.copy()\n",
    "    airports_df = self.airports_df.copy()  # Assuming airports_df is accessible within the class\n",
    "\n",
    "    # Merge routes with airport data to get source airport latitude and longitude\n",
    "    routes_df = pd.merge(routes_df, airports_df, left_on='Source airport', right_on='IATA', how='left')\n",
    "    routes_df = routes_df.rename(columns={'Latitude': 'source_lat', 'Longitude': 'source_lon'})\n",
    "\n",
    "    # Merge routes with airport data again to get destination airport latitude and longitude\n",
    "    routes_df = pd.merge(routes_df, airports_df, left_on='Destination airport', right_on='IATA', how='left', suffixes=('', '_dest'))\n",
    "    routes_df = routes_df.rename(columns={'Latitude_dest': 'dest_lat', 'Longitude_dest': 'dest_lon'})\n",
    "\n",
    "    # Filter routes by the specified source airport\n",
    "    all_routes = routes_df[routes_df['Source airport'] == airport]\n",
    "\n",
    "    if internal:\n",
    "        # If internal flights are requested, further filter by matching source and destination country\n",
    "        source_country = airports_df[airports_df[\"IATA\"] == airport][\"Country\"].values[0]\n",
    "        internal_routes = all_routes[all_routes['Country_dest'] == source_country]\n",
    "        routes_to_plot = internal_routes\n",
    "    else:\n",
    "        routes_to_plot = all_routes\n",
    "\n",
    "    # Plotting\n",
    "    fig, ax = plt.subplots()\n",
    "    for _, row in routes_to_plot.iterrows():\n",
    "        # Plot a line between source and destination\n",
    "        plt.plot([row['source_lon'], row['dest_lon']], [row['source_lat'], row['dest_lat']], marker='o')\n",
    "    \n",
    "    plt.title(f\"Flights from {airport} ({'Domestic' if internal else 'International'})\")\n",
    "    plt.xlabel('Longitude')\n",
    "    plt.ylabel('Latitude')\n",
    "    plt.show()\n",
    "\n",
    "    # Optionally, return the filtered DataFrame\n",
    "    return routes_to_plot\n"
   ]
  },
  {
   "cell_type": "code",
   "execution_count": 6,
   "metadata": {},
   "outputs": [
    {
     "ename": "AttributeError",
     "evalue": "'str' object has no attribute 'routes_df'",
     "output_type": "error",
     "traceback": [
      "\u001b[0;31m---------------------------------------------------------------------------\u001b[0m",
      "\u001b[0;31mAttributeError\u001b[0m                            Traceback (most recent call last)",
      "Cell \u001b[0;32mIn[6], line 1\u001b[0m\n\u001b[0;32m----> 1\u001b[0m m3 \u001b[38;5;241m=\u001b[39m \u001b[43mmethod3\u001b[49m\u001b[43m(\u001b[49m\u001b[38;5;124;43m\"\u001b[39;49m\u001b[38;5;124;43mMUC\u001b[39;49m\u001b[38;5;124;43m\"\u001b[39;49m\u001b[43m,\u001b[49m\u001b[38;5;28;43;01mFalse\u001b[39;49;00m\u001b[43m)\u001b[49m\n\u001b[1;32m      2\u001b[0m m3\n",
      "Cell \u001b[0;32mIn[5], line 8\u001b[0m, in \u001b[0;36mmethod3\u001b[0;34m(self, airport, internal)\u001b[0m\n\u001b[1;32m      5\u001b[0m \u001b[38;5;250m\u001b[39m\u001b[38;5;124;03m\"\"\"Plot flight routes from a given airport. If internal is True, plot only domestic flights.\"\"\"\u001b[39;00m\n\u001b[1;32m      7\u001b[0m \u001b[38;5;66;03m# Copy the routes and airports data to avoid modifying the original dataframes\u001b[39;00m\n\u001b[0;32m----> 8\u001b[0m routes_df \u001b[38;5;241m=\u001b[39m \u001b[38;5;28;43mself\u001b[39;49m\u001b[38;5;241;43m.\u001b[39;49m\u001b[43mroutes_df\u001b[49m\u001b[38;5;241m.\u001b[39mcopy()\n\u001b[1;32m      9\u001b[0m airports_df \u001b[38;5;241m=\u001b[39m \u001b[38;5;28mself\u001b[39m\u001b[38;5;241m.\u001b[39mairports_df\u001b[38;5;241m.\u001b[39mcopy()  \u001b[38;5;66;03m# Assuming airports_df is accessible within the class\u001b[39;00m\n\u001b[1;32m     11\u001b[0m \u001b[38;5;66;03m# Merge routes with airport data to get source airport latitude and longitude\u001b[39;00m\n",
      "\u001b[0;31mAttributeError\u001b[0m: 'str' object has no attribute 'routes_df'"
     ]
    }
   ],
   "source": [
    "m3 = method3(\"MUC\",False)\n",
    "m3"
   ]
  },
  {
   "cell_type": "code",
   "execution_count": null,
   "metadata": {},
   "outputs": [],
   "source": []
  },
  {
   "cell_type": "code",
   "execution_count": null,
   "metadata": {},
   "outputs": [],
   "source": []
  },
  {
   "cell_type": "code",
   "execution_count": null,
   "metadata": {},
   "outputs": [],
   "source": []
  },
  {
   "cell_type": "code",
   "execution_count": null,
   "metadata": {},
   "outputs": [],
   "source": []
  },
  {
   "cell_type": "code",
   "execution_count": null,
   "metadata": {},
   "outputs": [],
   "source": []
  },
  {
   "cell_type": "code",
   "execution_count": null,
   "metadata": {},
   "outputs": [],
   "source": []
  },
  {
   "cell_type": "code",
   "execution_count": null,
   "metadata": {},
   "outputs": [],
   "source": []
  }
 ],
 "metadata": {
  "kernelspec": {
   "display_name": "adpro",
   "language": "python",
   "name": "python3"
  },
  "language_info": {
   "codemirror_mode": {
    "name": "ipython",
    "version": 3
   },
   "file_extension": ".py",
   "mimetype": "text/x-python",
   "name": "python",
   "nbconvert_exporter": "python",
   "pygments_lexer": "ipython3",
   "version": "3.12.1"
  }
 },
 "nbformat": 4,
 "nbformat_minor": 2
}
